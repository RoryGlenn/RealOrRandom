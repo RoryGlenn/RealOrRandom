{
  "cells": [
    {
      "cell_type": "markdown",
      "metadata": {
        "colab_type": "text",
        "id": "IDo6Mz1MoJxR"
      },
      "source": [
        "# Assignment 1\n",
        "\n",
        "Turn in the assignment via Canvas.\n",
        "\n",
        "To write legible answers you will need to be familiar with both [Markdown](https://github.com/adam-p/markdown-here/wiki/Markdown-Cheatsheet) and [Latex](https://www.latex-tutorial.com/tutorials/amsmath/)\n",
        "\n",
        "Before you turn this problem in, make sure everything runs as expected. First, restart the kernel (in the menubar, select Kernel→→Restart) and then run all cells (in the menubar, select Cell→→Run All).\n",
        "\n",
        "Make sure you fill in any place that says \"YOUR CODE HERE\" or \"YOUR ANSWER HERE\", as well as your name below:"
      ]
    },
    {
      "cell_type": "code",
      "execution_count": null,
      "metadata": {
        "colab": {},
        "colab_type": "code",
        "id": "nOfazHDtoJxS"
      },
      "outputs": [],
      "source": [
        "NAME = \"Rory Glenn\"\n",
        "STUDENT_ID = \"1713714\""
      ]
    },
    {
      "cell_type": "markdown",
      "metadata": {
        "colab_type": "text",
        "id": "DnqS9q_LoJxW"
      },
      "source": [
        "## Problem 1 -  Bayes' Theorem\n",
        "\n",
        "Suppose there exists a test to classify emails as spam or not spam based on the contained words. This test accurately identifies spam (if it is actually spam) 95% of the time. The prevalence of spam emails is 3 in 10. Also, if an email isn't spam, the test will incorrectly classify it as spam 5% of the time.\n",
        "\n",
        "NOTE: For each of the following questions, please give each answer to at least 2 significant digit accuracy. To accomplish this, don't round off your results until the very last step of each calculation."
      ]
    },
    {
      "cell_type": "markdown",
      "metadata": {
        "colab_type": "text",
        "id": "iScoUr4VoJxW"
      },
      "source": [
        "### a. What's the probability that an email picked at random is spam? What's the probability that an email picked at random isn't spam?"
      ]
    },
    {
      "cell_type": "markdown",
      "metadata": {
        "colab_type": "text",
        "id": "tD5BY6oBoJxX"
      },
      "source": [
        "The probability that an email picked at random is spam is 0.30\n",
        "The probability that an email picked at random isn't spam is 0.70\n",
        "\n",
        "$P(Spam) = 0.30$\n",
        "\n",
        "\n",
        "$P(not Spam) = 0.70$"
      ]
    },
    {
      "cell_type": "markdown",
      "metadata": {
        "colab_type": "text",
        "id": "6V9jAYoNoJxX"
      },
      "source": [
        "### b. If you test an email and it reports positive for spam, what is the probability that it is spam?"
      ]
    },
    {
      "cell_type": "markdown",
      "metadata": {
        "colab_type": "text",
        "id": "20zMUeQdoJxY"
      },
      "source": [
        "<a href=\"https://www.codecogs.com/eqnedit.php?latex=\\dpi{150}&space;\\bg_white&space;\\large&space;P(positive&space;|&space;spam)&space;=&space;(&space;P(spam)*P(positive|spam)&space;)&space;/&space;(P(spam)*P(positive&space;|&space;spam)&space;&plus;&space;P(not&space;spam)&space;*&space;P(positive&space;|&space;not&space;spam))\" target=\"_blank\"><img src=\"https://latex.codecogs.com/gif.latex?\\dpi{150}&space;\\bg_white&space;\\large&space;P(positive&space;|&space;spam)&space;=&space;(&space;P(spam)*P(positive|spam)&space;)&space;/&space;(P(spam)*P(positive&space;|&space;spam)&space;&plus;&space;P(not&space;spam)&space;*&space;P(positive&space;|&space;not&space;spam))\" title=\"\\large P(positive | spam) = ( P(spam)*P(positive|spam) ) / (P(spam)*P(positive | spam) + P(not spam) * P(positive | not spam))\" /></a>\n",
        "\n",
        "<a href=\"https://www.codecogs.com/eqnedit.php?latex=\\dpi{150}&space;\\bg_white&space;\\large&space;P(positive|spam)&space;=&space;0.8906\" target=\"_blank\"><img src=\"https://latex.codecogs.com/gif.latex?\\dpi{150}&space;\\bg_white&space;\\large&space;P(positive|spam)&space;=&space;0.8906\" title=\"\\large P(positive|spam) = 0.8906\" /></a>"
      ]
    },
    {
      "cell_type": "markdown",
      "metadata": {
        "colab_type": "text",
        "id": "n4ALhwnmoJxY"
      },
      "source": [
        "### c. If you test an email and it reports negative for spam, what is the probability that it is spam?"
      ]
    },
    {
      "cell_type": "markdown",
      "metadata": {
        "colab_type": "text",
        "id": "RqAiQbSLoJxZ"
      },
      "source": [
        "<a href=\"https://www.codecogs.com/eqnedit.php?latex=\\inline&space;\\dpi{150}&space;\\bg_white&space;\\LARGE&space;P(spam|negative)&space;=&space;P(spam)*P(negative|spam)&space;/&space;P(spam)P(negative|spam)&space;&plus;&space;P(not&space;spam)*P(negative|not&space;spam)\" target=\"_blank\"><img src=\"https://latex.codecogs.com/gif.latex?\\inline&space;\\dpi{150}&space;\\bg_white&space;\\LARGE&space;P(spam|negative)&space;=&space;P(spam)*P(negative|spam)&space;/&space;P(spam)P(negative|spam)&space;&plus;&space;P(not&space;spam)*P(negative|not&space;spam)\" title=\"\\LARGE P(spam|negative) = P(spam)*P(negative|spam) / P(spam)P(negative|spam) + P(not spam)*P(negative|not spam)\" /></a>\n",
        "\n",
        "<a href=\"https://www.codecogs.com/eqnedit.php?latex=\\inline&space;\\dpi{150}&space;\\bg_white&space;\\LARGE&space;P(spam|negative)&space;=&space;0.0220\" target=\"_blank\"><img src=\"https://latex.codecogs.com/gif.latex?\\inline&space;\\dpi{150}&space;\\bg_white&space;\\LARGE&space;P(spam|negative)&space;=&space;0.0220\" title=\"\\LARGE P(spam|negative) = 0.0220\" /></a>"
      ]
    },
    {
      "cell_type": "markdown",
      "metadata": {
        "colab_type": "text",
        "id": "FrJ1hKatYaiU"
      },
      "source": [
        "## Monte Carlo Simulations\n",
        "\n",
        "Monte Carlo simulations can yield numeric solutions to probability problems that aren't possible to solve analytically. These simulations are also often easy to code up, and so also provide a way to check one's calculations for problems that amenable to analysis. So this is an important technique to become familiar with.\n",
        "\n",
        "Basically, one creates a simulation of the situation, and runs many trials that allow one to estimate the probabilities by computing proportions. \n",
        "\n",
        "First we give you an example of a Monte Carlo simulation, and then you'll solve such a problem yourself.\n",
        "\n",
        "### Example\n",
        "\n",
        "If you toss a coin 10 times, with what probability are you likely to see the subsequence {H, H, T, T} appear?\n",
        "\n",
        "Be patient, this may take a bit to run, but notice how straightforward the coding is. The simplicity of the Monte Carlo method makes it very powerful."
      ]
    },
    {
      "cell_type": "code",
      "execution_count": null,
      "metadata": {
        "colab": {},
        "colab_type": "code",
        "id": "vBn1ndB3oJxa"
      },
      "outputs": [],
      "source": [
        "from numpy.random import randint\n",
        "import numpy as np\n",
        "\n",
        "num_tosses = 10    # tosses per trial\n",
        "num_trials = 100000\n",
        "\n",
        "# This sets the feedback interval so we know the program hasn't crashed.\n",
        "feedback = int(np.round(num_trials / 10))\n",
        "\n",
        "num_seq_found = 0   # to count the number of target subsequences detected\n",
        "for t in range(1, num_trials + 1):\n",
        "    \n",
        "    # To see the progress.\n",
        "    if t % feedback == 0:  \n",
        "        print(np.round(100 * t / num_trials, 1), '%  complete:   prob =', num_seq_found / t)\n",
        "        \n",
        "    # Roll the die num_tosses times.\n",
        "    trial = [randint(1, 3) for _ in range(num_tosses)]\n",
        "    # Find the indices of all the 2s.\n",
        "    heads = [i for i in range(num_tosses) if trial[i] == 1]\n",
        "    \n",
        "    # Search to see if after each 2 we have a 4 followed by a 6.\n",
        "    for j in heads:\n",
        "        if j < num_tosses - 3 and trial[j] == 1 and trial[j + 1] == 1 and trial[j + 2] == 2 and trial[j + 3] == 2:\n",
        "            # We've found the target subsequence.\n",
        "            num_seq_found += 1\n",
        "    \n",
        "print('Probability of this subsequence =', num_seq_found / num_trials)"
      ]
    },
    {
      "cell_type": "markdown",
      "metadata": {
        "colab_type": "text",
        "id": "IT-eRCtiYaib"
      },
      "source": [
        "## Problem 2  -  Monte Carlo Simulation\n",
        "\n",
        "Consider two dice: One fair and one unfair. The unfair die has a 50% chance to land on the 6 face, and even chance for the rest of the faces.\n",
        "\n",
        "Write code that rolls both dice and computes the sum.\n",
        "\n",
        "Do this many times, and give the mean of all the sums.  This will converge to the expected average sum of both randomly rolled dice. You may need to run this several times to be sure of your accuracy. You can check the correctness of your Monte Carlo Simulation by solving this problem analytically.\n",
        "\n",
        "Hint:\n",
        "\n",
        "https://docs.scipy.org/doc/numpy-1.14.0/reference/generated/numpy.random.choice.html"
      ]
    },
    {
      "cell_type": "code",
      "execution_count": null,
      "metadata": {
        "colab": {
          "base_uri": "https://localhost:8080/",
          "height": 204
        },
        "colab_type": "code",
        "id": "H4GVkg25oJxd",
        "outputId": "6622f1b1-68ef-43bf-bbd9-3a1c73171914"
      },
      "outputs": [
        {
          "name": "stdout",
          "output_type": "stream",
          "text": [
            "10.0 % complete:   mean_sum = 7.501410141014094\n",
            "20.0 % complete:   mean_sum = 7.505585279263957\n",
            "30.0 % complete:   mean_sum = 7.499466648888293\n",
            "40.0 % complete:   mean_sum = 7.498762469061693\n",
            "50.0 % complete:   mean_sum = 7.497725954519137\n",
            "60.0 % complete:   mean_sum = 7.4991316521942695\n",
            "70.0 % complete:   mean_sum = 7.499574279632624\n",
            "80.0 % complete:   mean_sum = 7.498918736484258\n",
            "90.0 % complete:   mean_sum = 7.4967944088267995\n",
            "100.0 % complete:   mean_sum = 7.496948969489709\n",
            "mean sum = 7.496946000000014\n"
          ]
        }
      ],
      "source": [
        "import numpy as np\n",
        "from numpy.random import choice\n",
        "\n",
        "num_tosses = 10\n",
        "num_trials = 100000\n",
        "die_number = [1, 2, 3, 4, 5, 6]\n",
        "average_list = []\n",
        "mean_sum = 0\n",
        "feedback = int(np.round(num_trials / 10))\n",
        "\n",
        "for t in range(1, num_trials + 1):\n",
        "\n",
        "    if t % feedback == 0:\n",
        "        average_total = 0\n",
        "        for k in range(len(average_list)):\n",
        "            average_total += average_list[k]                # add up all the averages\n",
        "\n",
        "        average_total = average_total / len(average_list)   # get the average of all the averages\n",
        "        print(np.round(100 * t / num_trials, 1), \"% complete:   mean_sum =\", average_total)  # output the average of all averages\n",
        "\n",
        "    fair_die_trial = [np.random.randint(1, 6) for _ in range(num_tosses)]\n",
        "    unfair_die_trial = [int(np.random.choice(die_number, 1, p=[0.1, 0.1, 0.1, 0.1, 0.1, 0.5])) for _ in range(num_tosses)]\n",
        "\n",
        "    sum = []\n",
        "    for i in range(num_tosses):\n",
        "        sum.append(fair_die_trial[i] + unfair_die_trial[i])     # sum the die rolls\n",
        "\n",
        "    trial_average = 0\n",
        "    for j in range(num_tosses):\n",
        "        trial_average += sum[j]         # add up all the sums\n",
        "    trial_average /= len(sum)           # take the average of the sums\n",
        "    average_list.append(trial_average)  # append the average of the sums to list\n",
        "\n",
        "for i in range(0, len(average_list)):\n",
        "    mean_sum += average_list[i]         # sum over all the averages\n",
        "\n",
        "mean_sum = mean_sum / len(average_list) # take the average of all numbers\n",
        "print('mean sum =', mean_sum)"
      ]
    },
    {
      "cell_type": "markdown",
      "metadata": {
        "colab_type": "text",
        "id": "JqLfHsyWoJxg"
      },
      "source": [
        "#### [YOUR ANSWER HERE] ###\n",
        "\n",
        "mean sum = 7.5"
      ]
    },
    {
      "cell_type": "markdown",
      "metadata": {
        "colab_type": "text",
        "id": "YVsAdkmbD-Sy"
      },
      "source": [
        "\n",
        "## Problem 3 - Data Processing\n",
        "\n"
      ]
    },
    {
      "cell_type": "markdown",
      "metadata": {
        "colab_type": "text",
        "id": "esDKYNhE_7cP"
      },
      "source": [
        "There are three types of data:\n",
        "\n",
        "1.   **Numerical**: For example height, price of a good, heart rate and so on. These data are quantitative in nature.\n",
        "2.   **Categorical**: While these are qualitative in nature. For example \"Yes\" or \"No\", \"Red\",\"Green\" or \"Blue\" and \"Doggo\" or \"Kitty\".\n",
        "3.   **Ordinal**: This is a combination of the above, for example movie ratings of 1-5.\n",
        " \n"
      ]
    },
    {
      "cell_type": "markdown",
      "metadata": {
        "colab_type": "text",
        "id": "dfzrHV3fFAv1"
      },
      "source": [
        "Machine learning algorithms need data to work. Before you start applying machine learning, you must process your data into a form a machine learning model will expect. This is known as **data preprocessing**.  \n",
        "\n",
        "The data we are working with pertains to the airline domain in India. It was used in a hackathon, where the goal was to predict airline prices given a set of *features*. First let's download a dataset, go to link http://download853.mediafire.com/orceo1u9llng/l7j86drkdln9aye/Data_Train.xlsx and download the Data_Train.xlsx. Then upload the file to your notebook (without renaming) by clicking on the File icon on the left side and then clicking \"Upload\" and upload the \"Data_Train.xlsx\" file."
      ]
    },
    {
      "cell_type": "markdown",
      "metadata": {
        "colab_type": "text",
        "id": "Tl-cv1UmgLEk"
      },
      "source": [
        "Now that we have some data, we need the appropriate libraries to first read the data in and if need be manipulate the data for use in machine learning."
      ]
    },
    {
      "cell_type": "code",
      "execution_count": null,
      "metadata": {
        "colab": {},
        "colab_type": "code",
        "id": "mxUdD1br_7-b"
      },
      "outputs": [],
      "source": [
        "# We import pandas, a Python library that allows us to read in common data formats such as .csv, .xlsx, etc... \n",
        "# as a dataframe, essentially a matrix of features.\n",
        "import pandas as pd\n",
        "data = pd.read_excel('Data_Train.xlsx')  # Read in the data we downloaded\n",
        "data.dropna(inplace=True)"
      ]
    },
    {
      "cell_type": "code",
      "execution_count": null,
      "metadata": {
        "colab": {
          "base_uri": "https://localhost:8080/",
          "height": 564
        },
        "colab_type": "code",
        "id": "kCfYBVElWpLF",
        "outputId": "119fd0e0-ab15-4e83-d95f-772c06f452b0"
      },
      "outputs": [
        {
          "data": {
            "text/html": [
              "<div>\n",
              "<style scoped>\n",
              "    .dataframe tbody tr th:only-of-type {\n",
              "        vertical-align: middle;\n",
              "    }\n",
              "\n",
              "    .dataframe tbody tr th {\n",
              "        vertical-align: top;\n",
              "    }\n",
              "\n",
              "    .dataframe thead th {\n",
              "        text-align: right;\n",
              "    }\n",
              "</style>\n",
              "<table border=\"1\" class=\"dataframe\">\n",
              "  <thead>\n",
              "    <tr style=\"text-align: right;\">\n",
              "      <th></th>\n",
              "      <th>Airline</th>\n",
              "      <th>Date_of_Journey</th>\n",
              "      <th>Source</th>\n",
              "      <th>Destination</th>\n",
              "      <th>Route</th>\n",
              "      <th>Dep_Time</th>\n",
              "      <th>Arrival_Time</th>\n",
              "      <th>Duration</th>\n",
              "      <th>Total_Stops</th>\n",
              "      <th>Additional_Info</th>\n",
              "      <th>Price</th>\n",
              "    </tr>\n",
              "  </thead>\n",
              "  <tbody>\n",
              "    <tr>\n",
              "      <th>0</th>\n",
              "      <td>IndiGo</td>\n",
              "      <td>24/03/2019</td>\n",
              "      <td>Banglore</td>\n",
              "      <td>New Delhi</td>\n",
              "      <td>BLR → DEL</td>\n",
              "      <td>22:20</td>\n",
              "      <td>01:10 22 Mar</td>\n",
              "      <td>2h 50m</td>\n",
              "      <td>non-stop</td>\n",
              "      <td>No info</td>\n",
              "      <td>3897</td>\n",
              "    </tr>\n",
              "    <tr>\n",
              "      <th>1</th>\n",
              "      <td>Air India</td>\n",
              "      <td>1/05/2019</td>\n",
              "      <td>Kolkata</td>\n",
              "      <td>Banglore</td>\n",
              "      <td>CCU → IXR → BBI → BLR</td>\n",
              "      <td>05:50</td>\n",
              "      <td>13:15</td>\n",
              "      <td>7h 25m</td>\n",
              "      <td>2 stops</td>\n",
              "      <td>No info</td>\n",
              "      <td>7662</td>\n",
              "    </tr>\n",
              "    <tr>\n",
              "      <th>2</th>\n",
              "      <td>Jet Airways</td>\n",
              "      <td>9/06/2019</td>\n",
              "      <td>Delhi</td>\n",
              "      <td>Cochin</td>\n",
              "      <td>DEL → LKO → BOM → COK</td>\n",
              "      <td>09:25</td>\n",
              "      <td>04:25 10 Jun</td>\n",
              "      <td>19h</td>\n",
              "      <td>2 stops</td>\n",
              "      <td>No info</td>\n",
              "      <td>13882</td>\n",
              "    </tr>\n",
              "    <tr>\n",
              "      <th>3</th>\n",
              "      <td>IndiGo</td>\n",
              "      <td>12/05/2019</td>\n",
              "      <td>Kolkata</td>\n",
              "      <td>Banglore</td>\n",
              "      <td>CCU → NAG → BLR</td>\n",
              "      <td>18:05</td>\n",
              "      <td>23:30</td>\n",
              "      <td>5h 25m</td>\n",
              "      <td>1 stop</td>\n",
              "      <td>No info</td>\n",
              "      <td>6218</td>\n",
              "    </tr>\n",
              "    <tr>\n",
              "      <th>4</th>\n",
              "      <td>IndiGo</td>\n",
              "      <td>01/03/2019</td>\n",
              "      <td>Banglore</td>\n",
              "      <td>New Delhi</td>\n",
              "      <td>BLR → NAG → DEL</td>\n",
              "      <td>16:50</td>\n",
              "      <td>21:35</td>\n",
              "      <td>4h 45m</td>\n",
              "      <td>1 stop</td>\n",
              "      <td>No info</td>\n",
              "      <td>13302</td>\n",
              "    </tr>\n",
              "  </tbody>\n",
              "</table>\n",
              "</div>"
            ],
            "text/plain": [
              "       Airline Date_of_Journey    Source  ... Total_Stops Additional_Info  Price\n",
              "0       IndiGo      24/03/2019  Banglore  ...    non-stop         No info   3897\n",
              "1    Air India       1/05/2019   Kolkata  ...     2 stops         No info   7662\n",
              "2  Jet Airways       9/06/2019     Delhi  ...     2 stops         No info  13882\n",
              "3       IndiGo      12/05/2019   Kolkata  ...      1 stop         No info   6218\n",
              "4       IndiGo      01/03/2019  Banglore  ...      1 stop         No info  13302\n",
              "\n",
              "[5 rows x 11 columns]"
            ]
          },
          "execution_count": 5,
          "metadata": {
            "tags": []
          },
          "output_type": "execute_result"
        }
      ],
      "source": [
        "# We can examine the data by looking at the first 5 entries using the head() function.\n",
        "data.head()"
      ]
    },
    {
      "cell_type": "markdown",
      "metadata": {
        "colab_type": "text",
        "id": "Nf1cdIceaQOb"
      },
      "source": [
        "### Exploratory Data Analysis\n",
        "\n",
        "Before we start processing we should examine our data. This is known as exploratory data analysis.\n",
        "\n",
        "Use seaborn to carry out data exploratory analysis to observe the distribution of Airlines.\n",
        "\n",
        "[HINT: Use sns.countplot()]\n",
        "\n",
        "Comment on the distribution of Airlines and what this could mean for price prediction?"
      ]
    },
    {
      "cell_type": "markdown",
      "metadata": {
        "colab_type": "text",
        "id": "anf-MLajPtd0"
      },
      "source": []
    },
    {
      "cell_type": "markdown",
      "metadata": {
        "colab_type": "text",
        "id": "IMtdMgMAJlM8"
      },
      "source": [
        "[YOUR ANSWER HERE]"
      ]
    },
    {
      "cell_type": "code",
      "execution_count": null,
      "metadata": {
        "colab": {
          "base_uri": "https://localhost:8080/",
          "height": 536
        },
        "colab_type": "code",
        "id": "KvPpYDYtaPoH",
        "outputId": "96f33eae-ef92-4df6-abd0-b4f89970f7fb"
      },
      "outputs": [
        {
          "name": "stderr",
          "output_type": "stream",
          "text": [
            "/usr/local/lib/python3.6/dist-packages/statsmodels/tools/_testing.py:19: FutureWarning: pandas.util.testing is deprecated. Use the functions in the public API at pandas.testing instead.\n",
            "  import pandas.util.testing as tm\n"
          ]
        },
        {
          "data": {
            "text/plain": [
              "(array([ 0,  1,  2,  3,  4,  5,  6,  7,  8,  9, 10, 11]),\n",
              " <a list of 12 Text major ticklabel objects>)"
            ]
          },
          "execution_count": 6,
          "metadata": {
            "tags": []
          },
          "output_type": "execute_result"
        },
        {
          "data": {
            "image/png": "[encoded data removed]",
            "text/plain": [
              "<Figure size 432x288 with 1 Axes>"
            ]
          },
          "metadata": {
            "needs_background": "light",
            "tags": []
          },
          "output_type": "display_data"
        }
      ],
      "source": [
        "import matplotlib.pyplot as plt\n",
        "import seaborn as sns # Used for plotting\n",
        "\n",
        "sns.countplot(\"Airline\", data=data)\n",
        "plt.xticks(rotation=90)\n",
        "\n",
        "# Comment on the distribution of Airlines and \n",
        "# what this could mean for price prediction?"
      ]
    },
    {
      "cell_type": "markdown",
      "metadata": {
        "colab_type": "text",
        "id": "reNlqIhglCG-"
      },
      "source": [
        "### Data Preprocessing and Feature Engineering"
      ]
    },
    {
      "cell_type": "markdown",
      "metadata": {
        "colab_type": "text",
        "id": "4AjtkWP-iD8u"
      },
      "source": [
        "We observe that this dataset has a mixture of data types ranging from: strings, date-time strings, and integers. \n",
        "\n",
        "Now we are ready to do some data preprocessing! Let's pretend we want to predict \"Price\", then it is reasonable to assume  \"Airline\", \"Date_of_Journey\", \"Source\", \"Destination\" , and \"Route\" could be useful features. We ignore \"Dep_Time\", \"Arrival_Time\" and \"Duration\". Similarly \"Total_Stops\" can be inferred from \"Route\" and \"Additional_Info\" could be useful in the future but for now we ignore it.\n",
        "\n",
        "The goal of preprocessing is to handle any irregularities in the dataset such as missing values, awkwardly formatted entries and any other outlier cases (also known as data cleaning).\n",
        "An example of a case we would need to deal with is in \"Arrival_Time\" row 1, the time and date is specified while other rows only have the time. A decision would have to be made whether or not to keep the date or just use the time. \n",
        "\n",
        "After our data is cleaned, we can confidently transform our data into the form machine learning models expect. Machine learning models are mathematical models and they work with vectors and matricies. Therefore after we finishing preprocessing we should have a dataframe of numbers i.e a matrix."
      ]
    },
    {
      "cell_type": "markdown",
      "metadata": {
        "colab_type": "text",
        "id": "JdjiA8A4k98c"
      },
      "source": [
        "#### a) Processing: \"Airline\", \"Source\" and \"Destination\"\n",
        "\n",
        "The data in these columns are strings and therefore not numerical. They must be transformed. There are several ways to do this transformation, but you can try the most simple method for this assignment. \n",
        "\n",
        "Given these columns transform the entries from strings to numerical data by:\n",
        "\n",
        "i) First for **each** column define a **vocabulary**, that is a collection of all the unique words. \n",
        "\n",
        "ii) Second, with the knowledge of each unique word create mapping of each word to a unique integer.\n",
        "\n",
        "iii) Third, with your mapping apply it to each column to complete the transformation to a numerical representation."
      ]
    },
    {
      "cell_type": "code",
      "execution_count": null,
      "metadata": {
        "colab": {},
        "colab_type": "code",
        "id": "FhPLT9ocX79U"
      },
      "outputs": [],
      "source": [
        "### YOUR CODE HERE ###\n",
        "\n",
        "# Step 1: Create a vocabulary for each column\n",
        "# Step 2: Create a mapping function from each word in the vocabulary to a unique integer\n",
        "# Step 3: Replce all words in the original data with the assigned integers\n",
        "\n",
        "def add_items(my_set, my_dict, my_string):\n",
        "  count = 1\n",
        "  for name in data[my_string]:\n",
        "    my_set.add(name)\n",
        "  for item in my_set:\n",
        "    my_dict[item] = count\n",
        "    count += 1\n",
        "  return my_set, my_dict\n",
        "\n",
        "def replace_items(my_data, my_dict, my_string):\n",
        "  my_data = my_data.replace({my_string: my_dict})\n",
        "  return my_data\n",
        "\n",
        "set_airlines = set()\n",
        "set_source = set()\n",
        "set_destination = set()\n",
        "dict_airlines = {}\n",
        "dict_source = {}\n",
        "dict_destination = {}\n",
        "\n",
        "set_airlines, dict_airlines = add_items(set_airlines, dict_airlines, \"Airline\")\n",
        "set_source, dict_source = add_items(set_source, dict_source, \"Source\")\n",
        "set_destination, dict_destination = add_items(set_destination, dict_destination, \"Destination\")\n",
        "\n",
        "data = replace_items(data, dict_airlines, \"Airline\")\n",
        "data = replace_items(data, dict_source, \"Source\")\n",
        "data = replace_items(data, dict_destination, \"Destination\")\n"
      ]
    },
    {
      "cell_type": "markdown",
      "metadata": {
        "colab_type": "text",
        "id": "2zXHg1stAiMF"
      },
      "source": [
        "# New Section"
      ]
    },
    {
      "cell_type": "markdown",
      "metadata": {
        "colab_type": "text",
        "id": "Mc9twBzYpP3o"
      },
      "source": [
        "#### b) Processing: \"Date_of_Journey\"\n",
        "\n",
        "i) The entries in this column cannot be understood by any machine learning model as is. We must transform them to numerical representation.\n",
        "\n",
        "Using pandas separate the dates into separate \"Months\" and \"Weekdays\". \n",
        "\n",
        "See example of creating a new column below.\n",
        "\n",
        "HINT: dt.day_name() gets the weekday from a datatime format\n",
        "and dt.month_name() gets the month name."
      ]
    },
    {
      "cell_type": "code",
      "execution_count": null,
      "metadata": {
        "colab": {},
        "colab_type": "code",
        "id": "1Vk2WQcyst4q"
      },
      "outputs": [],
      "source": [
        "import datetime as dt\n",
        "# According to TA Jose Sepulveda, import date as dt is not needed because\n",
        "# dt is already a member variable in the Dataframe class "
      ]
    },
    {
      "cell_type": "code",
      "execution_count": null,
      "metadata": {
        "colab": {},
        "colab_type": "code",
        "id": "MyH1EyaksJBH"
      },
      "outputs": [],
      "source": [
        "# Overwrite column to be in datatime format\n",
        "# That is: YYYY/MM/DD -> YYYY-MM-DD\n",
        "data['Date_of_Journey'] = pd.to_datetime(data['Date_of_Journey'])"
      ]
    },
    {
      "cell_type": "code",
      "execution_count": null,
      "metadata": {
        "colab": {},
        "colab_type": "code",
        "id": "Bboi8CHCschm"
      },
      "outputs": [],
      "source": [
        "data['day_of_week'] = data[\"Date_of_Journey\"].dt.day_name()"
      ]
    },
    {
      "cell_type": "code",
      "execution_count": null,
      "metadata": {
        "colab": {},
        "colab_type": "code",
        "id": "9a4dw9JFseNo"
      },
      "outputs": [],
      "source": [
        "data['Journey_Month'] = data[\"Date_of_Journey\"].dt.month_name()"
      ]
    },
    {
      "cell_type": "markdown",
      "metadata": {
        "colab_type": "text",
        "id": "RmS5WS_ktK3F"
      },
      "source": [
        "ii) Now that you have these new columns, are these features ready for a machine learning model? Please explain.\n"
      ]
    },
    {
      "cell_type": "markdown",
      "metadata": {
        "colab_type": "text",
        "id": "iH2zkCjLJrYD"
      },
      "source": [
        "[YOUR ANSWER HERE]"
      ]
    },
    {
      "cell_type": "markdown",
      "metadata": {
        "colab_type": "text",
        "id": "qyKIJfuVt7Yf"
      },
      "source": [
        "#### c) Processing: Route\n",
        "\n",
        "Processing \"Route\" is tricky as they are all different lengthed strings. Why is this a problem? It doesn't have to be if we feed our algorithm an entry one by one but that can be slow. We want to utilize the fact computers are designed to do matrix operations quickly.\n",
        "\n",
        "To preprocess the \"Route\" column do the following:\n",
        "\n",
        "i) Separate the strings by the empty string using split().\n",
        "\n",
        "ii) Determine a vocabulary made up of each unique airport code and you may include the arrow that separates the codes.\n",
        "\n",
        "iii) Using this vocabulary information devise a way to make sure all the strings/features are the same size and **NO NEED TO IMPLEMENT** it. Discuss why you choose that method and any limitations you can think of. [HINT: Think about the vocabulary approach from above and an approach called one hot encoding.]\n"
      ]
    },
    {
      "cell_type": "code",
      "execution_count": null,
      "metadata": {
        "colab": {},
        "colab_type": "code",
        "id": "j4DyhPNjvg9p"
      },
      "outputs": [],
      "source": [
        "data['Route'].str.split()\n",
        "routes = data['Route'].unique()\n",
        "\n"
      ]
    },
    {
      "cell_type": "markdown",
      "metadata": {
        "colab_type": "text",
        "id": "7dPE54VQSSTT"
      },
      "source": [
        "In order to implement this vocabulary information, I would either use one hot encoding or multi hot encoding.\n",
        "Some of the problems with one hot encoding include problems with the states. It also seems to be very computational expensive given a large enough data set. I think that it would also be difficult for us to recognize the data with the human eye but for a computer it is fine."
      ]
    },
    {
      "cell_type": "markdown",
      "metadata": {
        "colab_type": "text",
        "id": "URdm0uwHySZH"
      },
      "source": [
        "#### d) Feature Engineering\n",
        "Surprise surprise! We have been doing feature engineering all along by preprocessing the data and trasnforming or engineering it into a form a machine learning algorithm will expect.\n",
        "\n",
        "But this doesn't mean the features cannot be improved!\n",
        "\n",
        "Consider the \"Airline\" column from part a) each airline is mapped to a unique integer. Imagine a scenario where we have hundreds of unique airlines, the airline mapped to 100 for example would be weighted more than the airline mapped to 1. Similarly for columns \"Source\" and \"Destination\". To fix this discrepancy, we utilize standardization or normalization.\n",
        "\n",
        "Use standarization to map all the values in these columns to the range [0,1] by using the following expression: \n",
        "\n",
        "```scaled_value = (value - min) / (max - min)```."
      ]
    },
    {
      "cell_type": "code",
      "execution_count": null,
      "metadata": {
        "colab": {
          "base_uri": "https://localhost:8080/",
          "height": 74
        },
        "colab_type": "code",
        "id": "MpPYzrrF0Pyt",
        "outputId": "6402c469-d7bb-468c-bd94-db51c393960b"
      },
      "outputs": [
        {
          "name": "stdout",
          "output_type": "stream",
          "text": [
            "[15, 48, 47, 28, 28, 42, 49, 12, 12, 45, 26, 1, 34, 11, 44, 16, 20, 33, 11, 5, 29, 10, 49, 14, 29, 4, 11, 43, 33, 9, 43, 44, 2, 44, 43, 34, 13, 3, 25, 36, 36, 45, 24, 12, 2, 3, 22, 8, 40, 5, 39, 49, 44, 13, 3, 47, 41, 37, 3, 26, 11, 50, 22, 11, 25, 20, 16, 18, 32, 45, 38, 37, 29, 7, 8, 1, 27, 19, 1, 33, 37, 1, 49, 2, 47, 26, 21, 50, 30, 20, 22, 42, 7, 41, 49, 37, 35, 11, 12, 3]\n",
            "[0.2857142857142857, 0.9591836734693877, 0.9387755102040817, 0.5510204081632653, 0.5510204081632653, 0.8367346938775511, 0.9795918367346939, 0.22448979591836735, 0.22448979591836735, 0.8979591836734694, 0.5102040816326531, 0.0, 0.673469387755102, 0.20408163265306123, 0.8775510204081632, 0.30612244897959184, 0.3877551020408163, 0.6530612244897959, 0.20408163265306123, 0.08163265306122448, 0.5714285714285714, 0.1836734693877551, 0.9795918367346939, 0.2653061224489796, 0.5714285714285714, 0.061224489795918366, 0.20408163265306123, 0.8571428571428571, 0.6530612244897959, 0.16326530612244897, 0.8571428571428571, 0.8775510204081632, 0.02040816326530612, 0.8775510204081632, 0.8571428571428571, 0.673469387755102, 0.24489795918367346, 0.04081632653061224, 0.4897959183673469, 0.7142857142857143, 0.7142857142857143, 0.8979591836734694, 0.46938775510204084, 0.22448979591836735, 0.02040816326530612, 0.04081632653061224, 0.42857142857142855, 0.14285714285714285, 0.7959183673469388, 0.08163265306122448, 0.7755102040816326, 0.9795918367346939, 0.8775510204081632, 0.24489795918367346, 0.04081632653061224, 0.9387755102040817, 0.8163265306122449, 0.7346938775510204, 0.04081632653061224, 0.5102040816326531, 0.20408163265306123, 1.0, 0.42857142857142855, 0.20408163265306123, 0.4897959183673469, 0.3877551020408163, 0.30612244897959184, 0.3469387755102041, 0.6326530612244898, 0.8979591836734694, 0.7551020408163265, 0.7346938775510204, 0.5714285714285714, 0.12244897959183673, 0.14285714285714285, 0.0, 0.5306122448979592, 0.3673469387755102, 0.0, 0.6530612244897959, 0.7346938775510204, 0.0, 0.9795918367346939, 0.02040816326530612, 0.9387755102040817, 0.5102040816326531, 0.40816326530612246, 1.0, 0.5918367346938775, 0.3877551020408163, 0.42857142857142855, 0.8367346938775511, 0.12244897959183673, 0.8163265306122449, 0.9795918367346939, 0.7346938775510204, 0.6938775510204082, 0.20408163265306123, 0.22448979591836735, 0.04081632653061224]\n"
          ]
        }
      ],
      "source": [
        "import random\n",
        "array = [random.randint(1,50) for i in range(0, 100)]\n",
        "print(array)\n",
        "\n",
        "print([(v - min(array)) / (max(array) - min(array)) for v in array])"
      ]
    }
  ],
  "metadata": {
    "colab": {
      "collapsed_sections": [],
      "name": "Copy of CSE 144 - Assignment 1.ipynb",
      "provenance": [],
      "toc_visible": true
    },
    "kernelspec": {
      "display_name": "Python 3.10.5 64-bit",
      "language": "python",
      "name": "python3"
    },
    "language_info": {
      "name": "python",
      "version": "3.10.5"
    },
    "vscode": {
      "interpreter": {
        "hash": "faeaa8e0f5ecc5f61274cbfa7a2c54062e92cea1bf43625e2209112a5d106fa3"
      }
    }
  },
  "nbformat": 4,
  "nbformat_minor": 0
}
